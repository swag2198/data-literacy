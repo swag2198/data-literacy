{
 "cells": [
  {
   "cell_type": "code",
   "execution_count": 1,
   "id": "08821797",
   "metadata": {},
   "outputs": [
    {
     "name": "stdout",
     "output_type": "stream",
     "text": [
      "/Users/swagatam/miniconda3/envs/datalit/bin/python\n",
      "Python 3.10.13\n"
     ]
    }
   ],
   "source": [
    "!which python\n",
    "!python --version"
   ]
  },
  {
   "cell_type": "code",
   "execution_count": 2,
   "id": "6cd6c8bf",
   "metadata": {},
   "outputs": [],
   "source": [
    "import os, re, json, requests\n",
    "import PyPDF2\n",
    "import urllib.request\n",
    "from bs4 import BeautifulSoup\n",
    "from scipy import stats\n",
    "\n",
    "\n",
    "import numpy as np\n",
    "import pandas as pd\n",
    "import matplotlib.pyplot as plt\n",
    "\n",
    "import sys; sys.path.append('../')  # to import src"
   ]
  },
  {
   "cell_type": "code",
   "execution_count": 3,
   "id": "588c95e4",
   "metadata": {},
   "outputs": [],
   "source": [
    "from src import maps\n",
    "\n",
    "pd.set_option('display.max_columns', 100)\n",
    "# plt.style.use('ggplot')"
   ]
  },
  {
   "cell_type": "code",
   "execution_count": 4,
   "id": "46f098d9",
   "metadata": {},
   "outputs": [],
   "source": [
    "import tueplots\n",
    "from tueplots import bundles\n",
    "\n",
    "# this provides the color palette of Uni Tuebingen\n",
    "from tueplots.constants.color import rgb\n",
    "# e.g. as rgb.tue_blue, rgb.tue_red, etc.\n",
    "\n",
    "# set plotting stylesheet\n"
   ]
  },
  {
   "cell_type": "code",
   "execution_count": 5,
   "id": "70de9788",
   "metadata": {},
   "outputs": [],
   "source": [
    "# plt.rcParams.update(bundles.icml2022(column='half', nrows=1, ncols=1, usetex=False))\n",
    "# fig, ax = plt.subplots()\n",
    "# plt.show()"
   ]
  },
  {
   "cell_type": "code",
   "execution_count": 6,
   "id": "5538d979",
   "metadata": {},
   "outputs": [
    {
     "data": {
      "image/png": "[encoded data removed]",
      "text/plain": [
       "<Figure size 325x200.861 with 1 Axes>"
      ]
     },
     "metadata": {},
     "output_type": "display_data"
    }
   ],
   "source": [
    "with plt.rc_context({**bundles.icml2022(column='half', nrows=1, ncols=1, usetex=False), **tueplots.axes.lines()}):\n",
    "    fig, ax = plt.subplots()\n",
    "    ax.plot([1.0, 2.0], [3.0, 4.0], label=\"p(x)\")\n",
    "    ax.set_title(\"Title\")\n",
    "    ax.set_xlabel(\"xlabel $\\int f(x) dx$\")\n",
    "    ax.set_ylabel(\"ylabel $x \\sim \\mathcal{N}(x)$\")\n",
    "    plt.grid()\n",
    "    plt.legend()\n",
    "    plt.show()"
   ]
  },
  {
   "cell_type": "code",
   "execution_count": null,
   "id": "c3fb38eb",
   "metadata": {},
   "outputs": [],
   "source": []
  },
  {
   "cell_type": "code",
   "execution_count": null,
   "id": "45839f70",
   "metadata": {},
   "outputs": [],
   "source": []
  },
  {
   "cell_type": "code",
   "execution_count": 7,
   "id": "3c66225e",
   "metadata": {},
   "outputs": [
    {
     "name": "stdout",
     "output_type": "stream",
     "text": [
      "\u001b[1m\u001b[34m2021\u001b[m\u001b[m\n",
      "\u001b[01;34m../dat/\u001b[0m\n",
      "└── \u001b[01;34m2021\u001b[0m\n",
      "    ├── \u001b[00mcpsnov21.pdf\u001b[0m\n",
      "    ├── \u001b[00mnov21pub.csv\u001b[0m\n",
      "    └── \u001b[00mnov21pub.dat\u001b[0m\n",
      "\n",
      "2 directories, 3 files\n"
     ]
    }
   ],
   "source": [
    "DATA_DIR = os.path.join('..', 'dat')\n",
    "!ls $DATA_DIR;\n",
    "!tree $DATA_DIR/"
   ]
  },
  {
   "cell_type": "code",
   "execution_count": 8,
   "id": "87bebed2",
   "metadata": {},
   "outputs": [
    {
     "data": {
      "text/plain": [
       "'../dat/2021/nov21pub.csv'"
      ]
     },
     "execution_count": 8,
     "metadata": {},
     "output_type": "execute_result"
    }
   ],
   "source": [
    "year = '2021'\n",
    "CSV_FILE_PATH = os.path.join(DATA_DIR, os.path.join(year, f'nov{year[2:]}pub.csv'))\n",
    "CSV_FILE_PATH"
   ]
  },
  {
   "cell_type": "markdown",
   "id": "5060134f",
   "metadata": {},
   "source": [
    "## Some important attributes"
   ]
  },
  {
   "cell_type": "code",
   "execution_count": 9,
   "id": "37b57258",
   "metadata": {},
   "outputs": [],
   "source": [
    "PERSONTYPE = 'PRPERTYP'\n",
    "SEX = 'PESEX'\n",
    "AGE = 'PRTAGE'\n",
    "STATECODE = 'GESTFIPS'\n",
    "SOCIALMEDIA = 'PESOCIAL'\n",
    "TEXTING = 'PETEXTIM'\n",
    "EMAIL = 'PEEMAIL'\n",
    "\n",
    "# During the past year, (have you/has any member of your household) been affected by an\n",
    "# online security breach, identity theft, or a similar crime?\n",
    "CYBERCRIME='HEPSCYBA'\n",
    "\n",
    "\n",
    "#what concerns (you/members of this household) the most when it comes to online privacy and security risks?\n",
    "CONCERNS_MAP = {\n",
    "    'HEPSCON1': 'Identity theft',\n",
    "    'HEPSCON2': 'Credit card or banking fraud',\n",
    "    'HEPSCON3': 'Data collection or tracking by online services',\n",
    "    'HEPSCON4': 'Data collection or tracking by government',\n",
    "    'HEPSCON5': 'Loss of control over personal data such as email or social network profiles',\n",
    "    'HEPSCON6': 'Threats to personal safety, such as online harassment, stalking, or cyberbullying',\n",
    "    'HEPSCON8': 'Other concerns'\n",
    "}\n",
    "\n",
    "# During the past year, have concerns about privacy or security STOPPED (you/anyone in this household)\n",
    "# from doing any of these activities online\n",
    "ACTIVITIES_MAP = {\n",
    "    'HEPSPRE1': 'Conducting financial transactions such as banking, investing, or paying bills online?',\n",
    "    'HEPSPRE2': 'Buying goods or services online?',\n",
    "    'HEPSPRE3': 'Posting photos, status updates, or other information on social networks?',\n",
    "    'HEPSPRE4': 'Expressing an opinion on a controversial or political issue on a blog or social network, or in a forum, email or any other venue?',\n",
    "    'HEPSPRE5': 'Searching for information using a platform such as Google Search, Yahoo Search, Microsoft Bing, or another web search engine?'\n",
    "}\n",
    "\n",
    "CONCERNS = list(CONCERNS_MAP.keys())\n",
    "ACTIVITIES = list(ACTIVITIES_MAP.keys())\n",
    "\n",
    "\n",
    "DROP_COLUMNS = [\n",
    "    'FILLER',  # all rows have NaN values for some reason\n",
    "]"
   ]
  },
  {
   "cell_type": "code",
   "execution_count": 10,
   "id": "62779e43",
   "metadata": {},
   "outputs": [],
   "source": [
    "df21 = pd.read_csv(CSV_FILE_PATH)\n",
    "df21 = df21[(df21[AGE] >= 10) * (df21[SEX] != -1)]\n",
    "df21 = df21.drop(DROP_COLUMNS, axis=1)\n",
    "\n",
    "columns = features = df21.columns.to_list()"
   ]
  },
  {
   "cell_type": "code",
   "execution_count": 11,
   "id": "18695d60",
   "metadata": {},
   "outputs": [
    {
     "name": "stdout",
     "output_type": "stream",
     "text": [
      "# Rows = 90941\n",
      "# Columns = 567\n",
      "unique dtypes present: [dtype('int64')]\n"
     ]
    }
   ],
   "source": [
    "print(f'# Rows = {len(df21)}\\n# Columns = {df21.shape[1]}')\n",
    "print(f'unique dtypes present: {df21.dtypes.unique()}')"
   ]
  },
  {
   "cell_type": "code",
   "execution_count": null,
   "id": "ae383851",
   "metadata": {},
   "outputs": [],
   "source": []
  },
  {
   "cell_type": "markdown",
   "id": "3e7e36c9",
   "metadata": {},
   "source": [
    "## Inspect our target variables of interest\n",
    "\n",
    "The following query strings show two subsets of the data where we have atleast one yes ($1$) for the **concern** (on using the internet in general), and **activity** (specific things that people hesitate to do on the digital space) variables. In the data these variables also have a value of $-1$ that we are filtering out since it has ambiguous interpretation: either it was not possible to collect the survey response, or the person did not respond, or missing for some other reason.\n",
    "\n",
    "Even after removing such rows, we see we have $24, 626\\;(27.07\\%)$ people expressing atleast one activity that they feel anxious to do, and $55, 588\\;(61.12\\%)$ people expressing some kind of concern about the digital realm."
   ]
  },
  {
   "cell_type": "code",
   "execution_count": 12,
   "id": "0470d443",
   "metadata": {},
   "outputs": [],
   "source": [
    "query_string1 = ' or '.join([f'{item} == 1' for item in [f'HEPSCON{i}' for i in [1,2,3,4,5,6,8]]]) #concerns\n",
    "query_string2 = ' or '.join([f'{item} == 1' for item in [f'HEPSPRE{i}' for i in [1,2,3,4,5]]])     #activities"
   ]
  },
  {
   "cell_type": "code",
   "execution_count": 13,
   "id": "6fcd0ebc",
   "metadata": {},
   "outputs": [
    {
     "name": "stdout",
     "output_type": "stream",
     "text": [
      "# any -1: 0\n"
     ]
    },
    {
     "data": {
      "text/html": [
       "<div>\n",
       "<style scoped>\n",
       "    .dataframe tbody tr th:only-of-type {\n",
       "        vertical-align: middle;\n",
       "    }\n",
       "\n",
       "    .dataframe tbody tr th {\n",
       "        vertical-align: top;\n",
       "    }\n",
       "\n",
       "    .dataframe thead th {\n",
       "        text-align: right;\n",
       "    }\n",
       "</style>\n",
       "<table border=\"1\" class=\"dataframe\">\n",
       "  <thead>\n",
       "    <tr style=\"text-align: right;\">\n",
       "      <th></th>\n",
       "      <th>HEPSCON1</th>\n",
       "      <th>HEPSCON2</th>\n",
       "      <th>HEPSCON3</th>\n",
       "      <th>HEPSCON4</th>\n",
       "      <th>HEPSCON5</th>\n",
       "      <th>HEPSCON6</th>\n",
       "      <th>HEPSCON8</th>\n",
       "    </tr>\n",
       "  </thead>\n",
       "  <tbody>\n",
       "    <tr>\n",
       "      <th>5</th>\n",
       "      <td>1</td>\n",
       "      <td>1</td>\n",
       "      <td>1</td>\n",
       "      <td>1</td>\n",
       "      <td>2</td>\n",
       "      <td>2</td>\n",
       "      <td>2</td>\n",
       "    </tr>\n",
       "    <tr>\n",
       "      <th>6</th>\n",
       "      <td>1</td>\n",
       "      <td>1</td>\n",
       "      <td>2</td>\n",
       "      <td>2</td>\n",
       "      <td>2</td>\n",
       "      <td>2</td>\n",
       "      <td>2</td>\n",
       "    </tr>\n",
       "    <tr>\n",
       "      <th>7</th>\n",
       "      <td>1</td>\n",
       "      <td>1</td>\n",
       "      <td>2</td>\n",
       "      <td>2</td>\n",
       "      <td>2</td>\n",
       "      <td>2</td>\n",
       "      <td>2</td>\n",
       "    </tr>\n",
       "    <tr>\n",
       "      <th>8</th>\n",
       "      <td>1</td>\n",
       "      <td>1</td>\n",
       "      <td>2</td>\n",
       "      <td>2</td>\n",
       "      <td>2</td>\n",
       "      <td>2</td>\n",
       "      <td>2</td>\n",
       "    </tr>\n",
       "    <tr>\n",
       "      <th>9</th>\n",
       "      <td>1</td>\n",
       "      <td>1</td>\n",
       "      <td>2</td>\n",
       "      <td>2</td>\n",
       "      <td>2</td>\n",
       "      <td>2</td>\n",
       "      <td>2</td>\n",
       "    </tr>\n",
       "  </tbody>\n",
       "</table>\n",
       "</div>"
      ],
      "text/plain": [
       "   HEPSCON1  HEPSCON2  HEPSCON3  HEPSCON4  HEPSCON5  HEPSCON6  HEPSCON8\n",
       "5         1         1         1         1         2         2         2\n",
       "6         1         1         2         2         2         2         2\n",
       "7         1         1         2         2         2         2         2\n",
       "8         1         1         2         2         2         2         2\n",
       "9         1         1         2         2         2         2         2"
      ]
     },
     "execution_count": 13,
     "metadata": {},
     "output_type": "execute_result"
    }
   ],
   "source": [
    "dc = df21.query(query_string1)[CONCERNS_MAP.keys()]\n",
    "print(f'# any -1: {(dc == -1).sum().sum()}')\n",
    "dc.head()"
   ]
  },
  {
   "cell_type": "code",
   "execution_count": 14,
   "id": "6f98f560",
   "metadata": {},
   "outputs": [
    {
     "name": "stdout",
     "output_type": "stream",
     "text": [
      "# any -1: 0\n"
     ]
    },
    {
     "data": {
      "text/html": [
       "<div>\n",
       "<style scoped>\n",
       "    .dataframe tbody tr th:only-of-type {\n",
       "        vertical-align: middle;\n",
       "    }\n",
       "\n",
       "    .dataframe tbody tr th {\n",
       "        vertical-align: top;\n",
       "    }\n",
       "\n",
       "    .dataframe thead th {\n",
       "        text-align: right;\n",
       "    }\n",
       "</style>\n",
       "<table border=\"1\" class=\"dataframe\">\n",
       "  <thead>\n",
       "    <tr style=\"text-align: right;\">\n",
       "      <th></th>\n",
       "      <th>HEPSPRE1</th>\n",
       "      <th>HEPSPRE2</th>\n",
       "      <th>HEPSPRE3</th>\n",
       "      <th>HEPSPRE4</th>\n",
       "      <th>HEPSPRE5</th>\n",
       "    </tr>\n",
       "  </thead>\n",
       "  <tbody>\n",
       "    <tr>\n",
       "      <th>6</th>\n",
       "      <td>1</td>\n",
       "      <td>1</td>\n",
       "      <td>2</td>\n",
       "      <td>2</td>\n",
       "      <td>2</td>\n",
       "    </tr>\n",
       "    <tr>\n",
       "      <th>7</th>\n",
       "      <td>1</td>\n",
       "      <td>1</td>\n",
       "      <td>2</td>\n",
       "      <td>2</td>\n",
       "      <td>2</td>\n",
       "    </tr>\n",
       "    <tr>\n",
       "      <th>8</th>\n",
       "      <td>1</td>\n",
       "      <td>1</td>\n",
       "      <td>2</td>\n",
       "      <td>2</td>\n",
       "      <td>2</td>\n",
       "    </tr>\n",
       "    <tr>\n",
       "      <th>9</th>\n",
       "      <td>1</td>\n",
       "      <td>1</td>\n",
       "      <td>2</td>\n",
       "      <td>2</td>\n",
       "      <td>2</td>\n",
       "    </tr>\n",
       "    <tr>\n",
       "      <th>18</th>\n",
       "      <td>1</td>\n",
       "      <td>2</td>\n",
       "      <td>2</td>\n",
       "      <td>2</td>\n",
       "      <td>2</td>\n",
       "    </tr>\n",
       "  </tbody>\n",
       "</table>\n",
       "</div>"
      ],
      "text/plain": [
       "    HEPSPRE1  HEPSPRE2  HEPSPRE3  HEPSPRE4  HEPSPRE5\n",
       "6          1         1         2         2         2\n",
       "7          1         1         2         2         2\n",
       "8          1         1         2         2         2\n",
       "9          1         1         2         2         2\n",
       "18         1         2         2         2         2"
      ]
     },
     "execution_count": 14,
     "metadata": {},
     "output_type": "execute_result"
    }
   ],
   "source": [
    "da = df21.query(query_string2)[ACTIVITIES_MAP.keys()]\n",
    "print(f'# any -1: {(da == -1).sum().sum()}')\n",
    "da.head()"
   ]
  },
  {
   "cell_type": "code",
   "execution_count": 15,
   "id": "506e976b",
   "metadata": {},
   "outputs": [
    {
     "name": "stdout",
     "output_type": "stream",
     "text": [
      "Expressed some concern: 55588 = 61.13%\n",
      "Hesitates to do atleast one thing: 24626 = 27.08%\n"
     ]
    }
   ],
   "source": [
    "print(f'Expressed some concern: {dc.shape[0]} = {100*dc.shape[0]/df21.shape[0]:.2f}%')\n",
    "print(f'Hesitates to do atleast one thing: {da.shape[0]} = {100*da.shape[0]/df21.shape[0]:.2f}%')"
   ]
  },
  {
   "cell_type": "markdown",
   "id": "339a165b",
   "metadata": {},
   "source": [
    "Another variable of interest is `HEPSCYBA` that asks: \"during the past year, (have you/has any member of your household) been affected by an online security breach, identity theft, or a similar crime?\", and we see $14,328$ people responding \"Yes\" to this."
   ]
  },
  {
   "cell_type": "code",
   "execution_count": 16,
   "id": "69bc971e",
   "metadata": {},
   "outputs": [
    {
     "data": {
      "image/png": "[encoded data removed]",
      "text/plain": [
       "<Figure size 640x480 with 1 Axes>"
      ]
     },
     "metadata": {},
     "output_type": "display_data"
    }
   ],
   "source": [
    "df21.query('HEPSCYBA != -1')[CYBERCRIME].value_counts().plot(kind='bar')\n",
    "plt.show()"
   ]
  },
  {
   "cell_type": "markdown",
   "id": "29d3f8c9",
   "metadata": {},
   "source": [
    "## Distribution of concerns and online activities among population:\n",
    "We have seen earlier that in our dataset, we have questions on different concerns (`HEPSCON*` variables) and\n",
    "yes/no responses from people if they feel that variable represents their most important concern when it comes\n",
    "to online privacy and security risks. In our subsequent analyses we will use these as one of the response \n",
    "variables, and here we find how many people responded YES (\"1\") to it to obtain the sample size for each \n",
    "category.\n",
    "\n",
    "Similarly we have another set of response variables (`HEPSPRE{1-5}`) that asks people if they hesitated to \n",
    "some activity (specified by the variable, e.g., `HEPSPRE1` asks it for `Conducting financial transactions such \n",
    "as banking, investing, or paying bills online`) online because of privacy/safety concerns. We will also plot \n",
    "their sample sizes (i.e., the number of people whose response was affirmative to the question)."
   ]
  },
  {
   "cell_type": "code",
   "execution_count": 17,
   "id": "34bb5c20",
   "metadata": {},
   "outputs": [],
   "source": [
    "concerns_size = {concern: df21.query(f'{concern} == 1').shape[0] for concern in CONCERNS}\n",
    "activities_size = {activity: df21.query(f'{activity} == 1').shape[0] for activity in ACTIVITIES}"
   ]
  },
  {
   "cell_type": "code",
   "execution_count": 18,
   "id": "f245803d",
   "metadata": {},
   "outputs": [
    {
     "data": {
      "text/plain": [
       "(90941, 567)"
      ]
     },
     "execution_count": 18,
     "metadata": {},
     "output_type": "execute_result"
    }
   ],
   "source": [
    "df21.shape"
   ]
  },
  {
   "cell_type": "code",
   "execution_count": 19,
   "id": "0fae1d3e",
   "metadata": {},
   "outputs": [
    {
     "data": {
      "text/plain": [
       "{'HEPSCON1': 40329,\n",
       " 'HEPSCON2': 33499,\n",
       " 'HEPSCON3': 20904,\n",
       " 'HEPSCON4': 14923,\n",
       " 'HEPSCON5': 18229,\n",
       " 'HEPSCON6': 10273,\n",
       " 'HEPSCON8': 2698}"
      ]
     },
     "execution_count": 19,
     "metadata": {},
     "output_type": "execute_result"
    }
   ],
   "source": [
    "concerns_size"
   ]
  },
  {
   "cell_type": "code",
   "execution_count": 20,
   "id": "77a35713",
   "metadata": {},
   "outputs": [
    {
     "data": {
      "text/plain": [
       "{'HEPSPRE1': 14320,\n",
       " 'HEPSPRE2': 10699,\n",
       " 'HEPSPRE3': 10938,\n",
       " 'HEPSPRE4': 10546,\n",
       " 'HEPSPRE5': 6966}"
      ]
     },
     "execution_count": 20,
     "metadata": {},
     "output_type": "execute_result"
    }
   ],
   "source": [
    "activities_size"
   ]
  },
  {
   "cell_type": "code",
   "execution_count": 21,
   "id": "939d78fd",
   "metadata": {},
   "outputs": [],
   "source": [
    "# activity = 'HEPSCON6'\n",
    "# df21.query(f'{activity} == 1 and {SEX} == 1')"
   ]
  },
  {
   "cell_type": "code",
   "execution_count": null,
   "id": "8fc46ac3",
   "metadata": {},
   "outputs": [],
   "source": []
  },
  {
   "cell_type": "code",
   "execution_count": null,
   "id": "2a91f4df",
   "metadata": {},
   "outputs": [],
   "source": []
  },
  {
   "cell_type": "code",
   "execution_count": null,
   "id": "f5122f84",
   "metadata": {},
   "outputs": [],
   "source": []
  },
  {
   "cell_type": "code",
   "execution_count": null,
   "id": "951aeac4",
   "metadata": {},
   "outputs": [],
   "source": []
  },
  {
   "cell_type": "code",
   "execution_count": null,
   "id": "24a9a724",
   "metadata": {},
   "outputs": [],
   "source": []
  },
  {
   "cell_type": "markdown",
   "id": "c1c3b8ad",
   "metadata": {},
   "source": [
    "## Prepare some other maps"
   ]
  },
  {
   "cell_type": "code",
   "execution_count": 22,
   "id": "b11f4dc9",
   "metadata": {},
   "outputs": [],
   "source": [
    "columnsmapa= {\n",
    "    'HEPSPRE1': 'Financial transactions',\n",
    "    'HEPSPRE2': 'Online shopping',\n",
    "    'HEPSPRE3': 'Posting photos, status updates',\n",
    "    'HEPSPRE4': 'Expressing controversial opinions',\n",
    "    'HEPSPRE5': 'Searching on google, yahoo, bing'\n",
    "}\n",
    "\n",
    "columnsmapc = {\n",
    "    'HEPSCON1': 'Identity theft',\n",
    "    'HEPSCON2': 'Credit card fraus',\n",
    "    'HEPSCON3': 'Data tracking',\n",
    "    'HEPSCON4': 'Govt. data collection',\n",
    "    'HEPSCON5': 'Losing digital credentials',\n",
    "    'HEPSCON6': 'Cyber harrassment',\n",
    "    'HEPSCON8': 'Other'\n",
    "}\n",
    "\n",
    "# poverty guidelines: https://aspe.hhs.gov/2021-poverty-guidelines\n",
    "income_groups = {\n",
    "    \"below 35k\": [1,2,3,4,5,6,7,8,9],\n",
    "    \"35k-60k\": [10,11,12], #13],\n",
    "    \"60k-100k\": [13, 14],\n",
    "    \"100k-150k\": [15],\n",
    "    \"above 150k\": [16]\n",
    "}\n",
    "\n",
    "age_groups = {\n",
    "    '10-18':    [10, 18],\n",
    "    '18-25':    [18, 25],\n",
    "    '26-35':    [26, 35],\n",
    "    '36-45':    [36, 45],\n",
    "    '46-55':    [46, 55],\n",
    "    '56-65':    [56, 65],\n",
    "    '66+':      [66, 120],\n",
    "}\n",
    "\n",
    "education_groups = maps.educ  # education_educationid_mapping\n",
    "industry_groups = maps.ind    # industry_jobid_mapping"
   ]
  },
  {
   "cell_type": "code",
   "execution_count": 23,
   "id": "2498dc7c",
   "metadata": {},
   "outputs": [
    {
     "data": {
      "text/plain": [
       "({'LTHS': [31, 32, 33, 34, 35, 36, 37, 38],\n",
       "  'HS': [39],\n",
       "  'SC': [40, 41, 42],\n",
       "  'COLL': [43],\n",
       "  'ADV': [44, 45, 46]},\n",
       " {'Construction and mining': [1, 2, 3],\n",
       "  'Finance and business services': [7, 8, 9, 12],\n",
       "  'Manufacturing': [4],\n",
       "  'Trade, transportation, and utilities': [5, 6],\n",
       "  'Education and health': [10],\n",
       "  'Leisure and hospitality': [11],\n",
       "  'Public administration': [13],\n",
       "  'Armed forces': [14]})"
      ]
     },
     "execution_count": 23,
     "metadata": {},
     "output_type": "execute_result"
    }
   ],
   "source": [
    "education_groups, industry_groups"
   ]
  },
  {
   "cell_type": "code",
   "execution_count": null,
   "id": "76eadd18",
   "metadata": {},
   "outputs": [],
   "source": []
  },
  {
   "cell_type": "markdown",
   "id": "e6c2988a",
   "metadata": {},
   "source": [
    "## stratify and see proportions"
   ]
  },
  {
   "cell_type": "code",
   "execution_count": 26,
   "id": "20737e20",
   "metadata": {},
   "outputs": [],
   "source": [
    "def stratified_proportions(df,\n",
    "                           stratify_by,      # age, income, education or job industry\n",
    "                           categories_dict,  # mapping of age groups etc. as shown above\n",
    "                           target_variables, # list of concerns/activities\n",
    "                          ):\n",
    "    \n",
    "    # for each group, stores the probability of responding \"YES\" for each target variable\n",
    "    stratified_output_count_normalized = {}\n",
    "    sample_sizes = {}\n",
    "    \n",
    "    \n",
    "    v = stratify_by\n",
    "    for groupname, groupids in categories_dict.items():\n",
    "        if v != 'PRTAGE':\n",
    "            query_string = ' or '.join([f'{v} == {gid}' for gid in groupids])\n",
    "        else:\n",
    "            query_string = f'{v} >= {groupids[0]} and {v} <= {groupids[1]}'\n",
    "        # print(groupname)\n",
    "        _df = df.query(query_string)[target_variables]\n",
    "        \n",
    "        props = []  # props[i] = proportion for target variable i\n",
    "        sample_size = []\n",
    "        for tv in target_variables:\n",
    "            # Take 1 target variable and find the proportion of people who responded as 1 (yes)\n",
    "            _df1 = _df[[tv]]\n",
    "            _df1 = _df1[_df1[tv] != -1]  # remove the -1 responses (only keep 1 or 2)\n",
    "#             print(f'total #samples in this group for {tv} (Yes/No) = {_df1.shape[0]}')\n",
    "#             print(f'yes: {_df1.value_counts()[1]}, no: {_df1.value_counts()[2]}; proportion: {_df1.value_counts(normalize=True)[1]:.4f}')\n",
    "            props.append(_df1.value_counts(normalize=True)[1])\n",
    "            sample_size.append(_df1.shape[0])\n",
    "        \n",
    "        stratified_output_count_normalized[groupname] = props\n",
    "        sample_sizes[groupname] = sample_size\n",
    "        \n",
    "    return stratified_output_count_normalized, sample_sizes"
   ]
  },
  {
   "cell_type": "code",
   "execution_count": 27,
   "id": "c8200c03",
   "metadata": {},
   "outputs": [
    {
     "data": {
      "image/png": "[encoded data removed]",
      "text/plain": [
       "<Figure size 640x480 with 1 Axes>"
      ]
     },
     "metadata": {},
     "output_type": "display_data"
    }
   ],
   "source": [
    "# call\n",
    "res, sample_sizes = stratified_proportions(df21, stratify_by='HEFAMINC',\n",
    "                             categories_dict=income_groups,\n",
    "                             target_variables=ACTIVITIES)\n",
    "\n",
    "df = pd.DataFrame.from_dict(res, orient='index')\n",
    "# df = df[[3]]\n",
    "df = df.rename(columns= {\n",
    "    0: 'financial transactions',\n",
    "    1: 'online shopping',\n",
    "    2: 'posting photos, status updates',\n",
    "    3: 'expressing controversial opinions',\n",
    "    4: 'searching on google, yahoo, bing'\n",
    "})\n",
    "\n",
    "\n",
    "\n",
    "# Plot the DataFrame\n",
    "ax = df.plot(kind='bar')\n",
    "ax.set_title(\"What people hesitate to do stratified by annual income levels\", color='black')\n",
    "ax.legend(bbox_to_anchor=(1.0, 1.0))\n",
    "ax.plot()\n",
    "\n",
    "# Show the plot\n",
    "plt.show()"
   ]
  },
  {
   "cell_type": "code",
   "execution_count": 28,
   "id": "dcc21495",
   "metadata": {},
   "outputs": [
    {
     "data": {
      "text/html": [
       "<div>\n",
       "<style scoped>\n",
       "    .dataframe tbody tr th:only-of-type {\n",
       "        vertical-align: middle;\n",
       "    }\n",
       "\n",
       "    .dataframe tbody tr th {\n",
       "        vertical-align: top;\n",
       "    }\n",
       "\n",
       "    .dataframe thead th {\n",
       "        text-align: right;\n",
       "    }\n",
       "</style>\n",
       "<table border=\"1\" class=\"dataframe\">\n",
       "  <thead>\n",
       "    <tr style=\"text-align: right;\">\n",
       "      <th></th>\n",
       "      <th>financial transactions</th>\n",
       "      <th>online shopping</th>\n",
       "      <th>posting photos, status updates</th>\n",
       "      <th>expressing controversial opinions</th>\n",
       "      <th>searching on google, yahoo, bing</th>\n",
       "    </tr>\n",
       "  </thead>\n",
       "  <tbody>\n",
       "    <tr>\n",
       "      <th>below 35k</th>\n",
       "      <td>0.195754</td>\n",
       "      <td>0.151253</td>\n",
       "      <td>0.120127</td>\n",
       "      <td>0.109752</td>\n",
       "      <td>0.081204</td>\n",
       "    </tr>\n",
       "    <tr>\n",
       "      <th>35k-60k</th>\n",
       "      <td>0.193156</td>\n",
       "      <td>0.138111</td>\n",
       "      <td>0.128936</td>\n",
       "      <td>0.120754</td>\n",
       "      <td>0.086474</td>\n",
       "    </tr>\n",
       "    <tr>\n",
       "      <th>60k-100k</th>\n",
       "      <td>0.169695</td>\n",
       "      <td>0.127157</td>\n",
       "      <td>0.136954</td>\n",
       "      <td>0.133807</td>\n",
       "      <td>0.087766</td>\n",
       "    </tr>\n",
       "    <tr>\n",
       "      <th>100k-150k</th>\n",
       "      <td>0.179761</td>\n",
       "      <td>0.131181</td>\n",
       "      <td>0.147401</td>\n",
       "      <td>0.145818</td>\n",
       "      <td>0.092017</td>\n",
       "    </tr>\n",
       "    <tr>\n",
       "      <th>above 150k</th>\n",
       "      <td>0.168625</td>\n",
       "      <td>0.129533</td>\n",
       "      <td>0.166377</td>\n",
       "      <td>0.166014</td>\n",
       "      <td>0.096098</td>\n",
       "    </tr>\n",
       "  </tbody>\n",
       "</table>\n",
       "</div>"
      ],
      "text/plain": [
       "            financial transactions  online shopping  \\\n",
       "below 35k                 0.195754         0.151253   \n",
       "35k-60k                   0.193156         0.138111   \n",
       "60k-100k                  0.169695         0.127157   \n",
       "100k-150k                 0.179761         0.131181   \n",
       "above 150k                0.168625         0.129533   \n",
       "\n",
       "            posting photos, status updates  expressing controversial opinions  \\\n",
       "below 35k                         0.120127                           0.109752   \n",
       "35k-60k                           0.128936                           0.120754   \n",
       "60k-100k                          0.136954                           0.133807   \n",
       "100k-150k                         0.147401                           0.145818   \n",
       "above 150k                        0.166377                           0.166014   \n",
       "\n",
       "            searching on google, yahoo, bing  \n",
       "below 35k                           0.081204  \n",
       "35k-60k                             0.086474  \n",
       "60k-100k                            0.087766  \n",
       "100k-150k                           0.092017  \n",
       "above 150k                          0.096098  "
      ]
     },
     "execution_count": 28,
     "metadata": {},
     "output_type": "execute_result"
    }
   ],
   "source": [
    "df"
   ]
  },
  {
   "cell_type": "code",
   "execution_count": null,
   "id": "727ae976",
   "metadata": {},
   "outputs": [],
   "source": []
  },
  {
   "cell_type": "code",
   "execution_count": 29,
   "id": "d6bb60fb",
   "metadata": {},
   "outputs": [
    {
     "data": {
      "text/plain": [
       "{'below 35k': [16674, 16674, 16674, 16674, 16674],\n",
       " '35k-60k': [16132, 16132, 16132, 16132, 16132],\n",
       " '60k-100k': [19700, 19700, 19700, 19700, 19700],\n",
       " '100k-150k': [12639, 12639, 12639, 12639, 12639],\n",
       " 'above 150k': [13788, 13788, 13788, 13788, 13788]}"
      ]
     },
     "execution_count": 29,
     "metadata": {},
     "output_type": "execute_result"
    }
   ],
   "source": [
    "sample_sizes"
   ]
  },
  {
   "cell_type": "code",
   "execution_count": 30,
   "id": "9cfc4892",
   "metadata": {},
   "outputs": [
    {
     "data": {
      "image/png": "[encoded data removed]",
      "text/plain": [
       "<Figure size 640x480 with 1 Axes>"
      ]
     },
     "metadata": {},
     "output_type": "display_data"
    }
   ],
   "source": [
    "# call\n",
    "res, sample_sizes = stratified_proportions(df21, stratify_by='PEEDUCA',\n",
    "                             categories_dict=education_groups,\n",
    "                             target_variables=ACTIVITIES)\n",
    "\n",
    "df = pd.DataFrame.from_dict(res, orient='index')\n",
    "# df = df[[3]]\n",
    "df = df.rename(columns= {\n",
    "    0: 'financial transactions',\n",
    "    1: 'online shopping',\n",
    "    2: 'posting photos, status updates',\n",
    "    3: 'expressing controversial opinions',\n",
    "    4: 'searching on google, yahoo, bing'\n",
    "})\n",
    "\n",
    "\n",
    "\n",
    "# Plot the DataFrame\n",
    "ax = df.plot(kind='bar')\n",
    "ax.set_title(\"What people hesitate to do stratified by education groups\", color='black')\n",
    "ax.legend(bbox_to_anchor=(1.0, 1.0))\n",
    "ax.plot()\n",
    "\n",
    "# Show the plot\n",
    "plt.show()"
   ]
  },
  {
   "cell_type": "code",
   "execution_count": 37,
   "id": "7187c2bb",
   "metadata": {},
   "outputs": [
    {
     "data": {
      "text/plain": [
       "{'LTHS': [8397, 8397, 8397, 8397, 8397],\n",
       " 'HS': [19580, 19580, 19580, 19580, 19580],\n",
       " 'SC': [19248, 19248, 19248, 19248, 19248],\n",
       " 'COLL': [16105, 16105, 16105, 16105, 16105],\n",
       " 'ADV': [9794, 9794, 9794, 9794, 9794]}"
      ]
     },
     "execution_count": 37,
     "metadata": {},
     "output_type": "execute_result"
    }
   ],
   "source": [
    "sample_sizes"
   ]
  },
  {
   "cell_type": "code",
   "execution_count": 38,
   "id": "b6032be2",
   "metadata": {},
   "outputs": [
    {
     "data": {
      "text/html": [
       "<div>\n",
       "<style scoped>\n",
       "    .dataframe tbody tr th:only-of-type {\n",
       "        vertical-align: middle;\n",
       "    }\n",
       "\n",
       "    .dataframe tbody tr th {\n",
       "        vertical-align: top;\n",
       "    }\n",
       "\n",
       "    .dataframe thead th {\n",
       "        text-align: right;\n",
       "    }\n",
       "</style>\n",
       "<table border=\"1\" class=\"dataframe\">\n",
       "  <thead>\n",
       "    <tr style=\"text-align: right;\">\n",
       "      <th></th>\n",
       "      <th>financial transactions</th>\n",
       "      <th>online shopping</th>\n",
       "      <th>posting photos, status updates</th>\n",
       "      <th>expressing controversial opinions</th>\n",
       "      <th>searching on google, yahoo, bing</th>\n",
       "    </tr>\n",
       "  </thead>\n",
       "  <tbody>\n",
       "    <tr>\n",
       "      <th>LTHS</th>\n",
       "      <td>0.170061</td>\n",
       "      <td>0.136239</td>\n",
       "      <td>0.116589</td>\n",
       "      <td>0.101227</td>\n",
       "      <td>0.077647</td>\n",
       "    </tr>\n",
       "    <tr>\n",
       "      <th>HS</th>\n",
       "      <td>0.180746</td>\n",
       "      <td>0.131205</td>\n",
       "      <td>0.118693</td>\n",
       "      <td>0.112002</td>\n",
       "      <td>0.075945</td>\n",
       "    </tr>\n",
       "    <tr>\n",
       "      <th>SC</th>\n",
       "      <td>0.189734</td>\n",
       "      <td>0.134871</td>\n",
       "      <td>0.137313</td>\n",
       "      <td>0.134663</td>\n",
       "      <td>0.091386</td>\n",
       "    </tr>\n",
       "    <tr>\n",
       "      <th>COLL</th>\n",
       "      <td>0.186091</td>\n",
       "      <td>0.139708</td>\n",
       "      <td>0.154176</td>\n",
       "      <td>0.152872</td>\n",
       "      <td>0.098851</td>\n",
       "    </tr>\n",
       "    <tr>\n",
       "      <th>ADV</th>\n",
       "      <td>0.185420</td>\n",
       "      <td>0.140086</td>\n",
       "      <td>0.173678</td>\n",
       "      <td>0.173984</td>\n",
       "      <td>0.098938</td>\n",
       "    </tr>\n",
       "  </tbody>\n",
       "</table>\n",
       "</div>"
      ],
      "text/plain": [
       "      financial transactions  online shopping  posting photos, status updates  \\\n",
       "LTHS                0.170061         0.136239                        0.116589   \n",
       "HS                  0.180746         0.131205                        0.118693   \n",
       "SC                  0.189734         0.134871                        0.137313   \n",
       "COLL                0.186091         0.139708                        0.154176   \n",
       "ADV                 0.185420         0.140086                        0.173678   \n",
       "\n",
       "      expressing controversial opinions  searching on google, yahoo, bing  \n",
       "LTHS                           0.101227                          0.077647  \n",
       "HS                             0.112002                          0.075945  \n",
       "SC                             0.134663                          0.091386  \n",
       "COLL                           0.152872                          0.098851  \n",
       "ADV                            0.173984                          0.098938  "
      ]
     },
     "execution_count": 38,
     "metadata": {},
     "output_type": "execute_result"
    }
   ],
   "source": [
    "df"
   ]
  },
  {
   "cell_type": "code",
   "execution_count": 41,
   "id": "9ca44fef",
   "metadata": {},
   "outputs": [
    {
     "data": {
      "text/plain": [
       "array([10, 11, 15,  5, 14,  2,  1,  8,  9,  7, 12, 16, 13,  3,  4,  6])"
      ]
     },
     "execution_count": 41,
     "metadata": {},
     "output_type": "execute_result"
    }
   ],
   "source": [
    "df21['HEFAMINC'].unique()"
   ]
  },
  {
   "cell_type": "code",
   "execution_count": null,
   "id": "b10ff046",
   "metadata": {},
   "outputs": [],
   "source": []
  },
  {
   "cell_type": "code",
   "execution_count": 32,
   "id": "ebad73bb",
   "metadata": {},
   "outputs": [
    {
     "data": {
      "image/png": "[encoded data removed]",
      "text/plain": [
       "<Figure size 640x480 with 1 Axes>"
      ]
     },
     "metadata": {},
     "output_type": "display_data"
    }
   ],
   "source": [
    "# call\n",
    "res, sample_sizes = stratified_proportions(df21, stratify_by='PRTAGE',\n",
    "                             categories_dict=age_groups,\n",
    "                             target_variables=ACTIVITIES)\n",
    "\n",
    "df = pd.DataFrame.from_dict(res, orient='index')\n",
    "# df = df[[3]]\n",
    "df = df.rename(columns= {\n",
    "    0: 'financial transactions',\n",
    "    1: 'online shopping',\n",
    "    2: 'posting photos, status updates',\n",
    "    3: 'expressing controversial opinions',\n",
    "    4: 'searching on google, yahoo, bing'\n",
    "})\n",
    "\n",
    "\n",
    "\n",
    "# Plot the DataFrame\n",
    "ax = df.plot(kind='bar')\n",
    "ax.set_title(\"What people hesitate to do stratified by age groups\", color='black')\n",
    "ax.legend(bbox_to_anchor=(1.0, 1.0))\n",
    "ax.plot()\n",
    "\n",
    "# Show the plot\n",
    "plt.show()"
   ]
  },
  {
   "cell_type": "code",
   "execution_count": null,
   "id": "6aad13bb",
   "metadata": {},
   "outputs": [],
   "source": []
  },
  {
   "cell_type": "code",
   "execution_count": null,
   "id": "664375a8",
   "metadata": {},
   "outputs": [],
   "source": []
  },
  {
   "cell_type": "markdown",
   "id": "2c96c941",
   "metadata": {},
   "source": [
    "## Chi-square test\n",
    "\n",
    "We have seen that we have a **bianry** response variable `HEPSPRE4`, which asks people if they feel safe while\n",
    "expressing _controversial_ opinions on the internet. And above, we observed that when the population is\n",
    "split into 5 categories according to their annual family income levels (groups determined by consulting 2021\n",
    "[US poverty guidelines](https://aspe.hhs.gov/2021-poverty-guidelines)), the fraction of the people who respond\n",
    "\"YES\" to that question (`HEPSPRE4`) seems to show an increasing trend with income. Here, we want to test if\n",
    "there is a suggestion/evidence of an association between the two variables: the binary response variable\n",
    "`HEPSPRE4` and the categorical income level variable.\n",
    "\n",
    "Since both variables are categorical, we consider doing a _chi-square test_ to test the null hypothesis that\n",
    "there is no overall difference between people from different income levels with respect to how safe they feel\n",
    "while expressing something controversial on the internet. To perform the test, we first construct the\n",
    "5 x 2 contingency table (5 income groups, 2 response outcomes) for the two variables, and compute the expected\n",
    "counts under the null hypothesis, that is simply the `(row total * column total) / total sample size` for a\n",
    "(row, column) position in the contingency table.\n",
    "\n",
    "Once we obtain the two tables (observed and expected counts), we compute the chi-square statistic and\n",
    "obtain the p-value to test the significance.\n",
    "\n",
    "\n",
    "References:\n",
    "---\n",
    "[1] [Chi-Square Test for Independence](https://online.stat.psu.edu/stat500/book/export/html/477)\n",
    "\n",
    "[2] [Chi-square test for multiple categories](https://web.pdx.edu/~newsomj/pa551/lectur11.htm)\n",
    "\n",
    "[3] [Concepts & Applications of Inferential Statistics, Chi-Square Procedures for Two Dimensions of Categorization](http://vassarstats.net/textbook/index.html)"
   ]
  },
  {
   "cell_type": "code",
   "execution_count": 39,
   "id": "14a19c9c",
   "metadata": {},
   "outputs": [
    {
     "name": "stdout",
     "output_type": "stream",
     "text": [
      "below 35k HEFAMINC == 1 or HEFAMINC == 2 or HEFAMINC == 3 or HEFAMINC == 4 or HEFAMINC == 5 or HEFAMINC == 6 or HEFAMINC == 7 or HEFAMINC == 8 or HEFAMINC == 9\n",
      "(16674, 1)\n",
      "proportion: 0.1098\n",
      "yes: 1830, no: 14844\n",
      "----\n",
      "35k-60k HEFAMINC == 10 or HEFAMINC == 11 or HEFAMINC == 12\n",
      "(16132, 1)\n",
      "proportion: 0.1208\n",
      "yes: 1948, no: 14184\n",
      "----\n",
      "60k-100k HEFAMINC == 13 or HEFAMINC == 14\n",
      "(19700, 1)\n",
      "proportion: 0.1338\n",
      "yes: 2636, no: 17064\n",
      "----\n",
      "100k-150k HEFAMINC == 15\n",
      "(12639, 1)\n",
      "proportion: 0.1458\n",
      "yes: 1843, no: 10796\n",
      "----\n",
      "above 150k HEFAMINC == 16\n",
      "(13788, 1)\n",
      "proportion: 0.1660\n",
      "yes: 2289, no: 11499\n",
      "----\n"
     ]
    }
   ],
   "source": [
    "v = 'HEFAMINC'\n",
    "categories_dict = income_groups\n",
    "opinion_variable = 'HEPSPRE4'  # expressing controversial opinions\n",
    "financial_variable = 'HEPSPRE1'  # expressing controversial opinions\n",
    "\n",
    "target_variable = opinion_variable\n",
    "\n",
    "arr = []\n",
    "for groupname, groupids in categories_dict.items():\n",
    "    query_string = ' or '.join([f'{v} == {gid}' for gid in groupids])\n",
    "    print(groupname, query_string)\n",
    "    \n",
    "    _df = df21.query(query_string)[[target_variable]]\n",
    "    _df = _df[_df[target_variable] != -1]  # remove the -1 responses (only keep 1 or 2)\n",
    "    print(_df.shape)\n",
    "    print(f'proportion: {_df.value_counts(normalize=True)[1]:.4f}')\n",
    "    print(f'yes: {_df.value_counts()[1]}, no: {_df.value_counts()[2]}')\n",
    "    arr.append([_df.value_counts()[1], _df.value_counts()[2], len(_df)])\n",
    "    print('----')"
   ]
  },
  {
   "cell_type": "code",
   "execution_count": 40,
   "id": "b914c065",
   "metadata": {},
   "outputs": [
    {
     "data": {
      "text/plain": [
       "10546"
      ]
     },
     "execution_count": 40,
     "metadata": {},
     "output_type": "execute_result"
    }
   ],
   "source": [
    "1830+1948+2636+1843+2289"
   ]
  },
  {
   "cell_type": "code",
   "execution_count": 43,
   "id": "bf500409",
   "metadata": {},
   "outputs": [
    {
     "data": {
      "text/html": [
       "<div>\n",
       "<style scoped>\n",
       "    .dataframe tbody tr th:only-of-type {\n",
       "        vertical-align: middle;\n",
       "    }\n",
       "\n",
       "    .dataframe tbody tr th {\n",
       "        vertical-align: top;\n",
       "    }\n",
       "\n",
       "    .dataframe thead th {\n",
       "        text-align: right;\n",
       "    }\n",
       "</style>\n",
       "<table border=\"1\" class=\"dataframe\">\n",
       "  <thead>\n",
       "    <tr style=\"text-align: right;\">\n",
       "      <th></th>\n",
       "      <th>Yes</th>\n",
       "      <th>No</th>\n",
       "      <th>Total (rows)</th>\n",
       "    </tr>\n",
       "  </thead>\n",
       "  <tbody>\n",
       "    <tr>\n",
       "      <th>below 35k</th>\n",
       "      <td>1830</td>\n",
       "      <td>14844</td>\n",
       "      <td>16674</td>\n",
       "    </tr>\n",
       "    <tr>\n",
       "      <th>35k-60k</th>\n",
       "      <td>1948</td>\n",
       "      <td>14184</td>\n",
       "      <td>16132</td>\n",
       "    </tr>\n",
       "    <tr>\n",
       "      <th>60k-100k</th>\n",
       "      <td>2636</td>\n",
       "      <td>17064</td>\n",
       "      <td>19700</td>\n",
       "    </tr>\n",
       "    <tr>\n",
       "      <th>100k-150k</th>\n",
       "      <td>1843</td>\n",
       "      <td>10796</td>\n",
       "      <td>12639</td>\n",
       "    </tr>\n",
       "    <tr>\n",
       "      <th>above 150k</th>\n",
       "      <td>2289</td>\n",
       "      <td>11499</td>\n",
       "      <td>13788</td>\n",
       "    </tr>\n",
       "    <tr>\n",
       "      <th>Total (cols)</th>\n",
       "      <td>10546</td>\n",
       "      <td>68387</td>\n",
       "      <td>78933</td>\n",
       "    </tr>\n",
       "  </tbody>\n",
       "</table>\n",
       "</div>"
      ],
      "text/plain": [
       "                Yes     No  Total (rows)\n",
       "below 35k      1830  14844         16674\n",
       "35k-60k        1948  14184         16132\n",
       "60k-100k       2636  17064         19700\n",
       "100k-150k      1843  10796         12639\n",
       "above 150k     2289  11499         13788\n",
       "Total (cols)  10546  68387         78933"
      ]
     },
     "execution_count": 43,
     "metadata": {},
     "output_type": "execute_result"
    }
   ],
   "source": [
    "arr = np.array(arr)\n",
    "do = pd.DataFrame(arr, columns=['Yes', 'No', 'Total (rows)'])\n",
    "do.index = categories_dict.keys()\n",
    "do.loc['Total (cols)'] = do.sum(0)\n",
    "do"
   ]
  },
  {
   "cell_type": "code",
   "execution_count": 44,
   "id": "bf87ab65",
   "metadata": {},
   "outputs": [
    {
     "data": {
      "text/html": [
       "<div>\n",
       "<style scoped>\n",
       "    .dataframe tbody tr th:only-of-type {\n",
       "        vertical-align: middle;\n",
       "    }\n",
       "\n",
       "    .dataframe tbody tr th {\n",
       "        vertical-align: top;\n",
       "    }\n",
       "\n",
       "    .dataframe thead th {\n",
       "        text-align: right;\n",
       "    }\n",
       "</style>\n",
       "<table border=\"1\" class=\"dataframe\">\n",
       "  <thead>\n",
       "    <tr style=\"text-align: right;\">\n",
       "      <th></th>\n",
       "      <th>Yes</th>\n",
       "      <th>No</th>\n",
       "    </tr>\n",
       "  </thead>\n",
       "  <tbody>\n",
       "    <tr>\n",
       "      <th>below 35k</th>\n",
       "      <td>1830</td>\n",
       "      <td>14844</td>\n",
       "    </tr>\n",
       "    <tr>\n",
       "      <th>35k-60k</th>\n",
       "      <td>1948</td>\n",
       "      <td>14184</td>\n",
       "    </tr>\n",
       "    <tr>\n",
       "      <th>60k-100k</th>\n",
       "      <td>2636</td>\n",
       "      <td>17064</td>\n",
       "    </tr>\n",
       "    <tr>\n",
       "      <th>100k-150k</th>\n",
       "      <td>1843</td>\n",
       "      <td>10796</td>\n",
       "    </tr>\n",
       "    <tr>\n",
       "      <th>above 150k</th>\n",
       "      <td>2289</td>\n",
       "      <td>11499</td>\n",
       "    </tr>\n",
       "  </tbody>\n",
       "</table>\n",
       "</div>"
      ],
      "text/plain": [
       "             Yes     No\n",
       "below 35k   1830  14844\n",
       "35k-60k     1948  14184\n",
       "60k-100k    2636  17064\n",
       "100k-150k   1843  10796\n",
       "above 150k  2289  11499"
      ]
     },
     "execution_count": 44,
     "metadata": {},
     "output_type": "execute_result"
    }
   ],
   "source": [
    "observed_table = do.iloc[0:len(categories_dict), :2]\n",
    "observed_table"
   ]
  },
  {
   "cell_type": "code",
   "execution_count": 45,
   "id": "7fbbbbd3",
   "metadata": {},
   "outputs": [
    {
     "data": {
      "text/plain": [
       "array([[ 2227.76283684, 14446.23716316],\n",
       "       [ 2155.34785198, 13976.65214802],\n",
       "       [ 2632.05756781, 17067.94243219],\n",
       "       [ 1688.65865988, 10950.34134012],\n",
       "       [ 1842.1730835 , 11945.8269165 ]])"
      ]
     },
     "execution_count": 45,
     "metadata": {},
     "output_type": "execute_result"
    }
   ],
   "source": [
    "# expected counts under null hypothesis\n",
    "# https://online.stat.psu.edu/stat500/book/export/html/477\n",
    "expected_table = (observed_table.sum(1).values[:, None] * observed_table.sum(0).values[None, :]) / observed_table.values.sum()\n",
    "expected_table"
   ]
  },
  {
   "cell_type": "code",
   "execution_count": 49,
   "id": "6756f5c8",
   "metadata": {},
   "outputs": [
    {
     "data": {
      "text/plain": [
       "246.37695704437385"
      ]
     },
     "execution_count": 49,
     "metadata": {},
     "output_type": "execute_result"
    }
   ],
   "source": [
    "r, c = observed_table.shape\n",
    "dof = (r-1)*(c-1)\n",
    "\n",
    "# compute test statistic manually\n",
    "chi2 = ((observed_table.values.flatten() - expected_table.flatten())**2 / (expected_table.flatten())).sum()\n",
    "chi2"
   ]
  },
  {
   "cell_type": "code",
   "execution_count": 52,
   "id": "b51fb5f1",
   "metadata": {},
   "outputs": [
    {
     "data": {
      "text/plain": [
       "Power_divergenceResult(statistic=246.37695704437385, pvalue=3.2916968758376956e-51)"
      ]
     },
     "execution_count": 52,
     "metadata": {},
     "output_type": "execute_result"
    }
   ],
   "source": [
    "from scipy.stats import chisquare\n",
    "chisquare(f_obs=observed_table.values.flatten(), f_exp=expected_table.flatten(), ddof=dof)"
   ]
  },
  {
   "cell_type": "code",
   "execution_count": 53,
   "id": "358f80f8",
   "metadata": {},
   "outputs": [],
   "source": [
    "def perform_chi_square_test(df,\n",
    "                            explanatory_variable,\n",
    "                            response_variable,\n",
    "                            categories_dict\n",
    "                           ):\n",
    "    \n",
    "    from scipy.stats import chisquare\n",
    "    \n",
    "    target_variable = response_variable  # binary, values: 1 or 2\n",
    "\n",
    "    arr = []\n",
    "    for groupname, groupids in categories_dict.items():\n",
    "        query_string = ' or '.join([f'{v} == {gid}' for gid in groupids])\n",
    "        print(groupname, query_string)\n",
    "\n",
    "        _df = df.query(query_string)[[target_variable]]\n",
    "        _df = _df[_df[target_variable] != -1]  # remove the -1 responses (only keep 1 or 2)\n",
    "        print(_df.shape)\n",
    "        print(f'proportion: {_df.value_counts(normalize=True)[1]:.4f}')\n",
    "        print(f'yes: {_df.value_counts()[1]}, no: {_df.value_counts()[2]}')\n",
    "        arr.append([_df.value_counts()[1], _df.value_counts()[2]])\n",
    "        print('----')\n",
    "        \n",
    "    observed_table = np.array(arr)\n",
    "    expected_table = (observed_table.sum(1)[:, None] * observed_table.sum(0)[None, :]) / observed_table.sum()\n",
    "    \n",
    "    r, c = observed_table.shape\n",
    "    dof = (r-1)*(c-1)\n",
    "    chi2 = ((observed_table.flatten() - expected_table.flatten())**2 / (expected_table.flatten())).sum()\n",
    "    \n",
    "    return chisquare(f_obs=observed_table.flatten(), f_exp=expected_table.flatten(), ddof=dof)"
   ]
  },
  {
   "cell_type": "code",
   "execution_count": 54,
   "id": "27ae0804",
   "metadata": {},
   "outputs": [
    {
     "name": "stdout",
     "output_type": "stream",
     "text": [
      "below 35k HEFAMINC == 1 or HEFAMINC == 2 or HEFAMINC == 3 or HEFAMINC == 4 or HEFAMINC == 5 or HEFAMINC == 6 or HEFAMINC == 7 or HEFAMINC == 8 or HEFAMINC == 9\n",
      "(16674, 1)\n",
      "proportion: 0.1098\n",
      "yes: 1830, no: 14844\n",
      "----\n",
      "35k-60k HEFAMINC == 10 or HEFAMINC == 11 or HEFAMINC == 12\n",
      "(16132, 1)\n",
      "proportion: 0.1208\n",
      "yes: 1948, no: 14184\n",
      "----\n",
      "60k-100k HEFAMINC == 13 or HEFAMINC == 14\n",
      "(19700, 1)\n",
      "proportion: 0.1338\n",
      "yes: 2636, no: 17064\n",
      "----\n",
      "100k-150k HEFAMINC == 15\n",
      "(12639, 1)\n",
      "proportion: 0.1458\n",
      "yes: 1843, no: 10796\n",
      "----\n",
      "above 150k HEFAMINC == 16\n",
      "(13788, 1)\n",
      "proportion: 0.1660\n",
      "yes: 2289, no: 11499\n",
      "----\n"
     ]
    },
    {
     "data": {
      "text/plain": [
       "Power_divergenceResult(statistic=246.37695704437385, pvalue=3.2916968758376956e-51)"
      ]
     },
     "execution_count": 54,
     "metadata": {},
     "output_type": "execute_result"
    }
   ],
   "source": [
    "perform_chi_square_test(df21, v, opinion_variable, income_groups)"
   ]
  },
  {
   "cell_type": "code",
   "execution_count": null,
   "id": "2aa4835d",
   "metadata": {},
   "outputs": [],
   "source": []
  }
 ],
 "metadata": {
  "kernelspec": {
   "display_name": "Python 3 (ipykernel)",
   "language": "python",
   "name": "python3"
  },
  "language_info": {
   "codemirror_mode": {
    "name": "ipython",
    "version": 3
   },
   "file_extension": ".py",
   "mimetype": "text/x-python",
   "name": "python",
   "nbconvert_exporter": "python",
   "pygments_lexer": "ipython3",
   "version": "3.10.13"
  }
 },
 "nbformat": 4,
 "nbformat_minor": 5
}
