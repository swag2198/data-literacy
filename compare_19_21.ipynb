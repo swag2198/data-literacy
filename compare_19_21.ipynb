{
 "cells": [
  {
   "cell_type": "code",
   "execution_count": 13,
   "metadata": {},
   "outputs": [],
   "source": [
    "import pandas as pd\n",
    "from collections import defaultdict\n",
    "\n",
    "df19 = pd.read_csv('./data/2019/nov19pub.csv')\n",
    "df21 = pd.read_csv('./data/2021/nov21pub.csv')"
   ]
  },
  {
   "cell_type": "code",
   "execution_count": 2,
   "metadata": {},
   "outputs": [
    {
     "name": "stdout",
     "output_type": "stream",
     "text": [
      "70281 138850\n",
      "68264 127375\n",
      "[11]\n",
      "[11]\n"
     ]
    }
   ],
   "source": [
    "# Check if there are duplicates in the concatenation of columns \"HRHHID\" and \"HRHHID2\" in both datasets\n",
    "print(len(set(df19['HRHHID'].astype(str) + df19['HRHHID2'].astype(str))), len(df19))\n",
    "print(len(set(df21['HRHHID'].astype(str) + df21['HRHHID2'].astype(str))), len(df21))\n",
    "# print unique values of column \"HRMONTH\"\n",
    "print(df19['HRMONTH'].unique())\n",
    "print(df21['HRMONTH'].unique())"
   ]
  },
  {
   "cell_type": "code",
   "execution_count": 3,
   "metadata": {},
   "outputs": [
    {
     "name": "stdout",
     "output_type": "stream",
     "text": [
      "Index([], dtype='object')\n"
     ]
    }
   ],
   "source": [
    "# print the name of the column with all unique values\n",
    "print(df19.columns[df19.nunique() == len(df19)])"
   ]
  },
  {
   "cell_type": "code",
   "execution_count": 4,
   "metadata": {},
   "outputs": [
    {
     "name": "stdout",
     "output_type": "stream",
     "text": [
      "2019: 0.33460568959308606\n",
      "2021: 0.3267909715407262\n"
     ]
    }
   ],
   "source": [
    "# find fraction of phone internet users\n",
    "print(\"2019:\", (df19[\"HEDESKTP\"]==1).sum() / len(df19))\n",
    "print(\"2021:\", (df21[\"HEDESKTP\"]==1).sum() / len(df21))"
   ]
  },
  {
   "cell_type": "markdown",
   "metadata": {},
   "source": [
    "There is some issue with the data - there are duplicates "
   ]
  },
  {
   "cell_type": "code",
   "execution_count": 14,
   "metadata": {},
   "outputs": [
    {
     "name": "stdout",
     "output_type": "stream",
     "text": [
      "                HRHHID  HRMONTH  HRYEAR4  HURESPLI  HUFINAL  HULANGCODE  \\\n",
      "4      901002967110858       11     2019         1      201           0   \n",
      "18258  901002967110858       11     2019         2      201           0   \n",
      "18259  901002967110858       11     2019         2      201           0   \n",
      "\n",
      "       HETENURE  HEHOUSUT  HETELHHD  HETELAVL  ...  HENOTV5  HENOTV6  HENOTV7  \\\n",
      "4             1         1         1        -1  ...       -1       -1       -1   \n",
      "18258         1         1         1        -1  ...        2        2        2   \n",
      "18259         1         1         1        -1  ...        2        2        2   \n",
      "\n",
      "       HENOTV8  HENOTV9  HENOTV10  HENOTV11  HENOTV12  PUELGFLG  PWPRMWGT  \n",
      "4           -1       -1        -1        -1        -1        20  37130922  \n",
      "18258        2        2         2         2         2        -1         0  \n",
      "18259        2        2         2         2         2        20  25279503  \n",
      "\n",
      "[3 rows x 508 columns]\n"
     ]
    },
    {
     "data": {
      "text/plain": [
       "0        1\n",
       "70451   -1\n",
       "Name: HEDESKTP, dtype: int64"
      ]
     },
     "execution_count": 14,
     "metadata": {},
     "output_type": "execute_result"
    }
   ],
   "source": [
    "# get all rows for a random HHID\n",
    "print(df19[df19['HRHHID']==df19['HRHHID'].unique()[4]])\n",
    "\n",
    "df19[df19['HRHHID']==df19['HRHHID'].unique()[0]][\"HEDESKTP\"]"
   ]
  },
  {
   "cell_type": "markdown",
   "metadata": {},
   "source": [
    "As we see, there are rows with -1s, and multiple rows can have the same HRHHID, with different answers"
   ]
  },
  {
   "cell_type": "code",
   "execution_count": 16,
   "metadata": {},
   "outputs": [
    {
     "name": "stdout",
     "output_type": "stream",
     "text": [
      "HRHHID\n",
      "931654012010526    16\n",
      "910100164872448    16\n",
      "10115354572522     16\n",
      "196022370405551    16\n",
      "140002070027134    15\n",
      "                   ..\n",
      "20008695103996      1\n",
      "965683290001009     1\n",
      "166890902090503     1\n",
      "299035060018609     1\n",
      "50610634581470      1\n",
      "Name: count, Length: 55107, dtype: int64\n"
     ]
    },
    {
     "name": "stderr",
     "output_type": "stream",
     "text": [
      "Unable to revert mtime: /Library/Fonts\n",
      "Fontconfig warning: ignoring UTF-8: not a valid region tag\n"
     ]
    },
    {
     "data": {
      "text/plain": [
       "<Axes: >"
      ]
     },
     "execution_count": 16,
     "metadata": {},
     "output_type": "execute_result"
    },
    {
     "data": {
      "image/png": "[encoded data removed]",
      "text/plain": [
       "<Figure size 640x480 with 1 Axes>"
      ]
     },
     "metadata": {},
     "output_type": "display_data"
    }
   ],
   "source": [
    "# Print the number of rows for each unique value of column \"HRHHID\"\n",
    "print(df19['HRHHID'].value_counts())\n",
    "\n",
    "# Plot the distribution of the number of rows per unique value of column \"HRHHID\"\n",
    "df19['HRHHID'].value_counts().hist()"
   ]
  },
  {
   "cell_type": "code",
   "execution_count": 19,
   "metadata": {},
   "outputs": [
    {
     "name": "stdout",
     "output_type": "stream",
     "text": [
      "0.8026362919979941\n",
      "0.8225750407612328\n"
     ]
    }
   ],
   "source": [
    "household_id_to_internet = defaultdict(list)\n",
    "\n",
    "def calculate_attribute_fraction(df, attribute, value, ignore_values=[]):\n",
    "    \"\"\"\n",
    "    Calculate the fraction of the unique values of the \"HRHHID\" column that have the attribute \"attribute\" with value \"value\"\n",
    "    Note that we need to take the mode of the attribute value for each unique value of the \"groupby\" column\n",
    "\n",
    "    # Ignore the values in the \"attribute\" column that are in the list \"ignore_values\" (e.g. -1)\n",
    "    \"\"\"\n",
    "\n",
    "    household_id_to_attribute = defaultdict(list)\n",
    "    for household_id, attribute_value in zip(df['HRHHID'], df[attribute]):\n",
    "        household_id_to_attribute[household_id].append(attribute_value)\n",
    "\n",
    "    # remove the values in the \"attribute\" column that are in the list \"ignore_values\" (e.g. -1)\n",
    "    for household_id, attribute_values in household_id_to_attribute.items():\n",
    "        household_id_to_attribute[household_id] = [value for value in attribute_values if value not in ignore_values]\n",
    "\n",
    "    # TODO: Do something better for the case where there are no values left in the list after removing the values in \"ignore_values\"\n",
    "    # for now, just remove the key from the dictionary\n",
    "    household_id_to_attribute = {household_id: attribute_values for household_id, attribute_values in household_id_to_attribute.items() if len(attribute_values) > 0}\n",
    "\n",
    "    # replace the lists with the mode of the list\n",
    "    for household_id, attribute_values in household_id_to_attribute.items():\n",
    "        household_id_to_attribute[household_id] = max(set(attribute_values), key=attribute_values.count)\n",
    "\n",
    "    # calculate the fraction of the unique values of the \"HRHHID\" column that have the attribute \"attribute\" with value \"value\"\n",
    "    return sum([1 for household_id, attribute_value in household_id_to_attribute.items() if attribute_value == value]) / len(household_id_to_attribute)\n",
    "\n",
    "print(calculate_attribute_fraction(df19, \"HEMPHONE\", 1, ignore_values=[-1]))\n",
    "print(calculate_attribute_fraction(df21, \"HEMPHONE\", 1, ignore_values=[-1]))\n"
   ]
  },
  {
   "cell_type": "code",
   "execution_count": 20,
   "metadata": {},
   "outputs": [
    {
     "name": "stdout",
     "output_type": "stream",
     "text": [
      "0.39838097284905793\n",
      "0.40892203244861414\n"
     ]
    }
   ],
   "source": [
    "print(calculate_attribute_fraction(df19, \"HEDESKTP\", 1, ignore_values=[-1]))\n",
    "print(calculate_attribute_fraction(df21, \"HEDESKTP\", 1, ignore_values=[-1]))"
   ]
  },
  {
   "cell_type": "code",
   "execution_count": 21,
   "metadata": {},
   "outputs": [
    {
     "name": "stdout",
     "output_type": "stream",
     "text": [
      "0.6911297312915342\n",
      "0.6735398978204139\n"
     ]
    }
   ],
   "source": [
    "print(calculate_attribute_fraction(df19, \"HEINWORK\", 1, ignore_values=[-1]))\n",
    "print(calculate_attribute_fraction(df21, \"HEINWORK\", 1, ignore_values=[-1]))"
   ]
  },
  {
   "cell_type": "code",
   "execution_count": 22,
   "metadata": {},
   "outputs": [
    {
     "name": "stdout",
     "output_type": "stream",
     "text": [
      "0.22083721374501517\n",
      "0.21524603747360543\n"
     ]
    }
   ],
   "source": [
    "print(calculate_attribute_fraction(df19, \"HEINSCHL\", 1, ignore_values=[-1]))\n",
    "print(calculate_attribute_fraction(df21, \"HEINSCHL\", 1, ignore_values=[-1]))"
   ]
  },
  {
   "cell_type": "code",
   "execution_count": 23,
   "metadata": {},
   "outputs": [
    {
     "name": "stdout",
     "output_type": "stream",
     "text": [
      "0.7396202213980984\n",
      "0.7419535056953971\n"
     ]
    }
   ],
   "source": [
    "print(calculate_attribute_fraction(df19, \"PESOCIAL\", 1, ignore_values=[-1]))\n",
    "print(calculate_attribute_fraction(df21, \"PESOCIAL\", 1, ignore_values=[-1]))"
   ]
  },
  {
   "cell_type": "code",
   "execution_count": null,
   "metadata": {},
   "outputs": [],
   "source": []
  }
 ],
 "metadata": {
  "kernelspec": {
   "display_name": ".venv",
   "language": "python",
   "name": "python3"
  },
  "language_info": {
   "codemirror_mode": {
    "name": "ipython",
    "version": 3
   },
   "file_extension": ".py",
   "mimetype": "text/x-python",
   "name": "python",
   "nbconvert_exporter": "python",
   "pygments_lexer": "ipython3",
   "version": "3.9.7"
  }
 },
 "nbformat": 4,
 "nbformat_minor": 2
}
