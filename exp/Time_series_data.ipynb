{
 "cells": [
  {
   "cell_type": "code",
   "execution_count": 1,
   "metadata": {},
   "outputs": [],
   "source": [
    "import sys\n",
    "import os\n",
    "import re\n",
    "import json\n",
    "import requests\n",
    "import PyPDF2\n",
    "import urllib.request\n",
    "import tueplots\n",
    "from tueplots import bundles\n",
    "from tueplots.constants.color import rgb\n",
    "from bs4 import BeautifulSoup\n",
    "from scipy import stats\n",
    "\n",
    "import numpy as np\n",
    "import pandas as pd\n",
    "import matplotlib.pyplot as plt\n",
    "import xgboost as xgb\n",
    "from bayes_opt import BayesianOptimization\n",
    "\n",
    "sys.path.append('../src/')\n",
    "import maps\n",
    "from maps import CONCERNS_MAP, ACTIVITIES_MAP, ACTIVITIES_MAP_SHORT, AGE, SEX\n"
   ]
  },
  {
   "cell_type": "code",
   "execution_count": 2,
   "metadata": {},
   "outputs": [
    {
     "name": "stdout",
     "output_type": "stream",
     "text": [
      "jul15-cps.csv\n",
      "nov17-cps.csv\n",
      "nov19-cps.csv\n",
      "nov21pub.csv\n"
     ]
    }
   ],
   "source": [
    "DATA_DIR = '../dat/'\n",
    "\n",
    "def read_csv_in_folder(folder):\n",
    "    \"\"\"\n",
    "    Reads the csv file in the folder and returns a dataframe.\n",
    "    \"\"\"\n",
    "    csv_file_name = [f for f in os.listdir(os.path.join(DATA_DIR, folder)) if f.endswith('.csv')][0]\n",
    "    print(csv_file_name)\n",
    "    df = pd.read_csv(os.path.join(DATA_DIR, folder, csv_file_name))\n",
    "    # Rename all columns to uppercase\n",
    "    df.columns = map(str.upper, df.columns)\n",
    "    df = df[(df[AGE] >= 10) * (df[SEX] != -1)]\n",
    "    return df\n",
    "\n",
    "# These are the years for which we have data\n",
    "years = range(2015, 2022, 2)\n",
    "# Read the data into a list of dataframes\n",
    "dataframes = list(map(read_csv_in_folder, map(str, years)))"
   ]
  },
  {
   "cell_type": "code",
   "execution_count": 3,
   "metadata": {},
   "outputs": [
    {
     "data": {
      "text/plain": [
       "HEPSCON1\n",
       " 1    40329\n",
       " 2    38604\n",
       "-1    12008\n",
       "Name: count, dtype: int64"
      ]
     },
     "execution_count": 3,
     "metadata": {},
     "output_type": "execute_result"
    }
   ],
   "source": [
    "dataframes[3][\"HEPSCON1\"].value_counts()"
   ]
  },
  {
   "cell_type": "code",
   "execution_count": 4,
   "metadata": {},
   "outputs": [
    {
     "name": "stdout",
     "output_type": "stream",
     "text": [
      "HEPSPRE5\n"
     ]
    },
    {
     "data": {
      "image/png": "[encoded data removed]",
      "text/plain": [
       "<Figure size 325x200.861 with 1 Axes>"
      ]
     },
     "metadata": {},
     "output_type": "display_data"
    }
   ],
   "source": [
    "colors = [ rgb.tue_lightblue, rgb.tue_darkgreen, rgb.tue_red, rgb.tue_violet]\n",
    "\n",
    "with plt.rc_context({**bundles.icml2022(column='half', nrows=1, ncols=1, usetex=False), **tueplots.axes.lines()}):\n",
    "\n",
    "    fig, ax = plt.subplots()\n",
    "\n",
    "    for idx, concern in enumerate(ACTIVITIES_MAP):\n",
    "        concern_percentages = []\n",
    "        skip = False\n",
    "        for year, df in zip(years, dataframes):\n",
    "            # Remove the rows where the df[concern] is -1\n",
    "            try:\n",
    "                df = df[df[concern] != -1]\n",
    "            except:\n",
    "                print(concern)\n",
    "                skip = True\n",
    "                continue\n",
    "\n",
    "            # Calculate the percentage of people who have the concern in the year\n",
    "            num_people_with_concern = len(df[df[concern] == 1])\n",
    "            num_people = len(df)\n",
    "            concern_percentages.append(num_people_with_concern / num_people * 100)\n",
    "        \n",
    "        if not skip:\n",
    "            # Plot the concern percentages\n",
    "            ax.plot(\n",
    "                years,\n",
    "                concern_percentages, \n",
    "                label=ACTIVITIES_MAP_SHORT[concern][:22]+\"..\" if len(ACTIVITIES_MAP_SHORT[concern]) > 22 else ACTIVITIES_MAP_SHORT[concern],\n",
    "                color = colors[idx],\n",
    "                ls=':',\n",
    "                marker=\".\"\n",
    "                )\n",
    "\n",
    "    ax.set_xlabel(\"Year\")\n",
    "    ax.set_ylabel(\"Risk Perception (%)\")\n",
    "    # ax.set_title(\"Percentage of people with hesitation over time\")\n",
    "    ax.set_ylim([10,30])\n",
    "\n",
    "    # Add spines\n",
    "    ax.spines[\"top\"].set(visible = False)\n",
    "    ax.spines[\"right\"].set(visible = False)\n",
    "    ax.grid(True, color = \"lightgrey\", ls = \":\")\n",
    "\n",
    "    # Set ticks\n",
    "    ax.set_xticks(years)\n",
    "\n",
    "    plt.legend()\n",
    "    plt.savefig(\"../res/figures/activity_over_time.pdf\")\n",
    "    plt.show()\n",
    "    plt.close(fig)"
   ]
  },
  {
   "cell_type": "code",
   "execution_count": null,
   "metadata": {},
   "outputs": [],
   "source": []
  }
 ],
 "metadata": {
  "kernelspec": {
   "display_name": ".venv",
   "language": "python",
   "name": "python3"
  },
  "language_info": {
   "codemirror_mode": {
    "name": "ipython",
    "version": 3
   },
   "file_extension": ".py",
   "mimetype": "text/x-python",
   "name": "python",
   "nbconvert_exporter": "python",
   "pygments_lexer": "ipython3",
   "version": "3.9.7"
  }
 },
 "nbformat": 4,
 "nbformat_minor": 2
}
